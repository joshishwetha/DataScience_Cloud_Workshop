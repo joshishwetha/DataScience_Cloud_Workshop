{
    "nbformat": 4, 
    "cells": [
        {
            "cell_type": "markdown", 
            "metadata": {
                "collapsed": true
            }, 
            "source": "<img src='https://raw.githubusercontent.com/bradenrc/sparksql_pot/master/sparkSQL4.png' width=\"80%\" height=\"80%\"></img>"
        }, 
        {
            "cell_type": "markdown", 
            "metadata": {}, 
            "source": "<img src='https://raw.githubusercontent.com/bradenrc/sparksql_pot/master/sparkSQL2.png' width=\"80%\" height=\"80%\"></img>"
        }, 
        {
            "cell_type": "markdown", 
            "metadata": {}, 
            "source": "<img src='https://raw.githubusercontent.com/bradenrc/sparksql_pot/master/sparkSQL3.png' width=\"80%\" height=\"80%\"></img>"
        }, 
        {
            "cell_type": "markdown", 
            "metadata": {}, 
            "source": "<img src='https://raw.githubusercontent.com/bradenrc/sparksql_pot/master/sparkSQL1.png' width=\"80%\" height=\"80%\"></img>"
        }, 
        {
            "cell_type": "markdown", 
            "metadata": {}, 
            "source": "# SQL queries Dataframes, not RDDs"
        }, 
        {
            "cell_type": "markdown", 
            "metadata": {}, 
            "source": "A data file on world banks will downloaded from GitHub after removing any previous data that may exist"
        }, 
        {
            "cell_type": "code", 
            "execution_count": 1, 
            "source": "# In jupyter notebooks you can prefice commands with a ! to run shell commands\n# here we remove any files with the name of the file we are going to download\n# then download the file\n\n!rm world_bank.json.gz -f\n!wget https://raw.githubusercontent.com/bradenrc/sparksql_pot/master/world_bank.json.gz", 
            "outputs": [
                {
                    "name": "stdout", 
                    "output_type": "stream", 
                    "text": "--2017-06-28 20:59:39--  https://raw.githubusercontent.com/bradenrc/sparksql_pot/master/world_bank.json.gz\nResolving raw.githubusercontent.com (raw.githubusercontent.com)... 151.101.48.133\nConnecting to raw.githubusercontent.com (raw.githubusercontent.com)|151.101.48.133|:443... connected.\nHTTP request sent, awaiting response... 200 OK\nLength: 446287 (436K) [application/octet-stream]\nSaving to: \u2018world_bank.json.gz\u2019\n\n100%[======================================>] 446,287     --.-K/s   in 0.03s   \n\n2017-06-28 20:59:40 (14.8 MB/s) - \u2018world_bank.json.gz\u2019 saved [446287/446287]\n\n"
                }
            ], 
            "metadata": {}
        }, 
        {
            "cell_type": "code", 
            "execution_count": 2, 
            "source": "spark", 
            "outputs": [
                {
                    "data": {
                        "text/plain": "<pyspark.sql.session.SparkSession at 0x7f2b7d6c43d0>"
                    }, 
                    "execution_count": 2, 
                    "metadata": {}, 
                    "output_type": "execute_result"
                }
            ], 
            "metadata": {}
        }, 
        {
            "cell_type": "code", 
            "execution_count": 3, 
            "source": "df = spark.read.json('world_bank.json.gz')", 
            "outputs": [], 
            "metadata": {
                "collapsed": true
            }
        }, 
        {
            "cell_type": "code", 
            "execution_count": 4, 
            "source": "df.printSchema()", 
            "outputs": [
                {
                    "name": "stdout", 
                    "output_type": "stream", 
                    "text": "root\n |-- _id: struct (nullable = true)\n |    |-- $oid: string (nullable = true)\n |-- approvalfy: string (nullable = true)\n |-- board_approval_month: string (nullable = true)\n |-- boardapprovaldate: string (nullable = true)\n |-- borrower: string (nullable = true)\n |-- closingdate: string (nullable = true)\n |-- country_namecode: string (nullable = true)\n |-- countrycode: string (nullable = true)\n |-- countryname: string (nullable = true)\n |-- countryshortname: string (nullable = true)\n |-- docty: string (nullable = true)\n |-- envassesmentcategorycode: string (nullable = true)\n |-- grantamt: long (nullable = true)\n |-- ibrdcommamt: long (nullable = true)\n |-- id: string (nullable = true)\n |-- idacommamt: long (nullable = true)\n |-- impagency: string (nullable = true)\n |-- lendinginstr: string (nullable = true)\n |-- lendinginstrtype: string (nullable = true)\n |-- lendprojectcost: long (nullable = true)\n |-- majorsector_percent: array (nullable = true)\n |    |-- element: struct (containsNull = true)\n |    |    |-- Name: string (nullable = true)\n |    |    |-- Percent: long (nullable = true)\n |-- mjsector_namecode: array (nullable = true)\n |    |-- element: struct (containsNull = true)\n |    |    |-- code: string (nullable = true)\n |    |    |-- name: string (nullable = true)\n |-- mjtheme: array (nullable = true)\n |    |-- element: string (containsNull = true)\n |-- mjtheme_namecode: array (nullable = true)\n |    |-- element: struct (containsNull = true)\n |    |    |-- code: string (nullable = true)\n |    |    |-- name: string (nullable = true)\n |-- mjthemecode: string (nullable = true)\n |-- prodline: string (nullable = true)\n |-- prodlinetext: string (nullable = true)\n |-- productlinetype: string (nullable = true)\n |-- project_abstract: struct (nullable = true)\n |    |-- cdata: string (nullable = true)\n |-- project_name: string (nullable = true)\n |-- projectdocs: array (nullable = true)\n |    |-- element: struct (containsNull = true)\n |    |    |-- DocDate: string (nullable = true)\n |    |    |-- DocType: string (nullable = true)\n |    |    |-- DocTypeDesc: string (nullable = true)\n |    |    |-- DocURL: string (nullable = true)\n |    |    |-- EntityID: string (nullable = true)\n |-- projectfinancialtype: string (nullable = true)\n |-- projectstatusdisplay: string (nullable = true)\n |-- regionname: string (nullable = true)\n |-- sector: array (nullable = true)\n |    |-- element: struct (containsNull = true)\n |    |    |-- Name: string (nullable = true)\n |-- sector1: struct (nullable = true)\n |    |-- Name: string (nullable = true)\n |    |-- Percent: long (nullable = true)\n |-- sector2: struct (nullable = true)\n |    |-- Name: string (nullable = true)\n |    |-- Percent: long (nullable = true)\n |-- sector3: struct (nullable = true)\n |    |-- Name: string (nullable = true)\n |    |-- Percent: long (nullable = true)\n |-- sector4: struct (nullable = true)\n |    |-- Name: string (nullable = true)\n |    |-- Percent: long (nullable = true)\n |-- sector_namecode: array (nullable = true)\n |    |-- element: struct (containsNull = true)\n |    |    |-- code: string (nullable = true)\n |    |    |-- name: string (nullable = true)\n |-- sectorcode: string (nullable = true)\n |-- source: string (nullable = true)\n |-- status: string (nullable = true)\n |-- supplementprojectflg: string (nullable = true)\n |-- theme1: struct (nullable = true)\n |    |-- Name: string (nullable = true)\n |    |-- Percent: long (nullable = true)\n |-- theme_namecode: array (nullable = true)\n |    |-- element: struct (containsNull = true)\n |    |    |-- code: string (nullable = true)\n |    |    |-- name: string (nullable = true)\n |-- themecode: string (nullable = true)\n |-- totalamt: long (nullable = true)\n |-- totalcommamt: long (nullable = true)\n |-- url: string (nullable = true)\n\n"
                }
            ], 
            "metadata": {}
        }, 
        {
            "cell_type": "code", 
            "execution_count": 5, 
            "source": "from pyspark.sql.types import IntegerType, StringType\n\ndf = df.withColumn('approvalfy',df['approvalfy'].cast(IntegerType()))", 
            "outputs": [], 
            "metadata": {}
        }, 
        {
            "cell_type": "code", 
            "execution_count": 6, 
            "source": "df.describe().toPandas()", 
            "outputs": [
                {
                    "data": {
                        "text/html": "<div>\n<style>\n    .dataframe thead tr:only-child th {\n        text-align: right;\n    }\n\n    .dataframe thead th {\n        text-align: left;\n    }\n\n    .dataframe tbody tr th {\n        vertical-align: top;\n    }\n</style>\n<table border=\"1\" class=\"dataframe\">\n  <thead>\n    <tr style=\"text-align: right;\">\n      <th></th>\n      <th>summary</th>\n      <th>approvalfy</th>\n      <th>grantamt</th>\n      <th>ibrdcommamt</th>\n      <th>idacommamt</th>\n      <th>lendprojectcost</th>\n      <th>totalamt</th>\n      <th>totalcommamt</th>\n    </tr>\n  </thead>\n  <tbody>\n    <tr>\n      <th>0</th>\n      <td>count</td>\n      <td>500</td>\n      <td>500</td>\n      <td>500</td>\n      <td>500</td>\n      <td>500</td>\n      <td>500</td>\n      <td>500</td>\n    </tr>\n    <tr>\n      <th>1</th>\n      <td>mean</td>\n      <td>2013.108</td>\n      <td>4432400.0</td>\n      <td>3.28601E7</td>\n      <td>3.542136E7</td>\n      <td>1.5472408E8</td>\n      <td>6.828146E7</td>\n      <td>7.271386E7</td>\n    </tr>\n    <tr>\n      <th>2</th>\n      <td>stddev</td>\n      <td>0.7220656185659391</td>\n      <td>2.023307257664499E7</td>\n      <td>1.0891968009875733E8</td>\n      <td>7.681430978486918E7</td>\n      <td>4.764210880341054E8</td>\n      <td>1.2426624790346088E8</td>\n      <td>1.2347049476800898E8</td>\n    </tr>\n    <tr>\n      <th>3</th>\n      <td>min</td>\n      <td>1999</td>\n      <td>0</td>\n      <td>0</td>\n      <td>0</td>\n      <td>30000</td>\n      <td>0</td>\n      <td>30000</td>\n    </tr>\n    <tr>\n      <th>4</th>\n      <td>max</td>\n      <td>2015</td>\n      <td>365000000</td>\n      <td>1307800000</td>\n      <td>600000000</td>\n      <td>5170000000</td>\n      <td>1307800000</td>\n      <td>1307800000</td>\n    </tr>\n  </tbody>\n</table>\n</div>", 
                        "text/plain": "  summary          approvalfy             grantamt           ibrdcommamt  \\\n0   count                 500                  500                   500   \n1    mean            2013.108            4432400.0             3.28601E7   \n2  stddev  0.7220656185659391  2.023307257664499E7  1.0891968009875733E8   \n3     min                1999                    0                     0   \n4     max                2015            365000000            1307800000   \n\n            idacommamt      lendprojectcost              totalamt  \\\n0                  500                  500                   500   \n1           3.542136E7          1.5472408E8            6.828146E7   \n2  7.681430978486918E7  4.764210880341054E8  1.2426624790346088E8   \n3                    0                30000                     0   \n4            600000000           5170000000            1307800000   \n\n           totalcommamt  \n0                   500  \n1            7.271386E7  \n2  1.2347049476800898E8  \n3                 30000  \n4            1307800000  "
                    }, 
                    "execution_count": 6, 
                    "metadata": {}, 
                    "output_type": "execute_result"
                }
            ], 
            "metadata": {}
        }, 
        {
            "cell_type": "code", 
            "execution_count": 7, 
            "source": "df.printSchema()", 
            "outputs": [
                {
                    "name": "stdout", 
                    "output_type": "stream", 
                    "text": "root\n |-- _id: struct (nullable = true)\n |    |-- $oid: string (nullable = true)\n |-- approvalfy: integer (nullable = true)\n |-- board_approval_month: string (nullable = true)\n |-- boardapprovaldate: string (nullable = true)\n |-- borrower: string (nullable = true)\n |-- closingdate: string (nullable = true)\n |-- country_namecode: string (nullable = true)\n |-- countrycode: string (nullable = true)\n |-- countryname: string (nullable = true)\n |-- countryshortname: string (nullable = true)\n |-- docty: string (nullable = true)\n |-- envassesmentcategorycode: string (nullable = true)\n |-- grantamt: long (nullable = true)\n |-- ibrdcommamt: long (nullable = true)\n |-- id: string (nullable = true)\n |-- idacommamt: long (nullable = true)\n |-- impagency: string (nullable = true)\n |-- lendinginstr: string (nullable = true)\n |-- lendinginstrtype: string (nullable = true)\n |-- lendprojectcost: long (nullable = true)\n |-- majorsector_percent: array (nullable = true)\n |    |-- element: struct (containsNull = true)\n |    |    |-- Name: string (nullable = true)\n |    |    |-- Percent: long (nullable = true)\n |-- mjsector_namecode: array (nullable = true)\n |    |-- element: struct (containsNull = true)\n |    |    |-- code: string (nullable = true)\n |    |    |-- name: string (nullable = true)\n |-- mjtheme: array (nullable = true)\n |    |-- element: string (containsNull = true)\n |-- mjtheme_namecode: array (nullable = true)\n |    |-- element: struct (containsNull = true)\n |    |    |-- code: string (nullable = true)\n |    |    |-- name: string (nullable = true)\n |-- mjthemecode: string (nullable = true)\n |-- prodline: string (nullable = true)\n |-- prodlinetext: string (nullable = true)\n |-- productlinetype: string (nullable = true)\n |-- project_abstract: struct (nullable = true)\n |    |-- cdata: string (nullable = true)\n |-- project_name: string (nullable = true)\n |-- projectdocs: array (nullable = true)\n |    |-- element: struct (containsNull = true)\n |    |    |-- DocDate: string (nullable = true)\n |    |    |-- DocType: string (nullable = true)\n |    |    |-- DocTypeDesc: string (nullable = true)\n |    |    |-- DocURL: string (nullable = true)\n |    |    |-- EntityID: string (nullable = true)\n |-- projectfinancialtype: string (nullable = true)\n |-- projectstatusdisplay: string (nullable = true)\n |-- regionname: string (nullable = true)\n |-- sector: array (nullable = true)\n |    |-- element: struct (containsNull = true)\n |    |    |-- Name: string (nullable = true)\n |-- sector1: struct (nullable = true)\n |    |-- Name: string (nullable = true)\n |    |-- Percent: long (nullable = true)\n |-- sector2: struct (nullable = true)\n |    |-- Name: string (nullable = true)\n |    |-- Percent: long (nullable = true)\n |-- sector3: struct (nullable = true)\n |    |-- Name: string (nullable = true)\n |    |-- Percent: long (nullable = true)\n |-- sector4: struct (nullable = true)\n |    |-- Name: string (nullable = true)\n |    |-- Percent: long (nullable = true)\n |-- sector_namecode: array (nullable = true)\n |    |-- element: struct (containsNull = true)\n |    |    |-- code: string (nullable = true)\n |    |    |-- name: string (nullable = true)\n |-- sectorcode: string (nullable = true)\n |-- source: string (nullable = true)\n |-- status: string (nullable = true)\n |-- supplementprojectflg: string (nullable = true)\n |-- theme1: struct (nullable = true)\n |    |-- Name: string (nullable = true)\n |    |-- Percent: long (nullable = true)\n |-- theme_namecode: array (nullable = true)\n |    |-- element: struct (containsNull = true)\n |    |    |-- code: string (nullable = true)\n |    |    |-- name: string (nullable = true)\n |-- themecode: string (nullable = true)\n |-- totalamt: long (nullable = true)\n |-- totalcommamt: long (nullable = true)\n |-- url: string (nullable = true)\n\n"
                }
            ], 
            "metadata": {}
        }, 
        {
            "cell_type": "markdown", 
            "metadata": {}, 
            "source": "# Many other types are supported including text and Parquet\n\nHere we are creating a Dataframe, similar to an RDD, but with a schema and abstraction that allows\nfor SQL to be used."
        }, 
        {
            "cell_type": "code", 
            "execution_count": 8, 
            "source": "#You can load json, text and other files using sqlContext\n#unlinke an RDD, this will attempt to create a schema around the data\n#self describing data works really well for this\n\nexample1_df = spark.read.json(\"./world_bank.json.gz\")", 
            "outputs": [], 
            "metadata": {
                "collapsed": true
            }
        }, 
        {
            "cell_type": "code", 
            "execution_count": 9, 
            "source": "# Spark SQL has the ability to infer the schema of JSON data and understand the structure of the data\n#once we have created the Dataframe, we can print out the schema to see the shape of the data\n\nprint example1_df.printSchema()", 
            "outputs": [
                {
                    "name": "stdout", 
                    "output_type": "stream", 
                    "text": "root\n |-- _id: struct (nullable = true)\n |    |-- $oid: string (nullable = true)\n |-- approvalfy: string (nullable = true)\n |-- board_approval_month: string (nullable = true)\n |-- boardapprovaldate: string (nullable = true)\n |-- borrower: string (nullable = true)\n |-- closingdate: string (nullable = true)\n |-- country_namecode: string (nullable = true)\n |-- countrycode: string (nullable = true)\n |-- countryname: string (nullable = true)\n |-- countryshortname: string (nullable = true)\n |-- docty: string (nullable = true)\n |-- envassesmentcategorycode: string (nullable = true)\n |-- grantamt: long (nullable = true)\n |-- ibrdcommamt: long (nullable = true)\n |-- id: string (nullable = true)\n |-- idacommamt: long (nullable = true)\n |-- impagency: string (nullable = true)\n |-- lendinginstr: string (nullable = true)\n |-- lendinginstrtype: string (nullable = true)\n |-- lendprojectcost: long (nullable = true)\n |-- majorsector_percent: array (nullable = true)\n |    |-- element: struct (containsNull = true)\n |    |    |-- Name: string (nullable = true)\n |    |    |-- Percent: long (nullable = true)\n |-- mjsector_namecode: array (nullable = true)\n |    |-- element: struct (containsNull = true)\n |    |    |-- code: string (nullable = true)\n |    |    |-- name: string (nullable = true)\n |-- mjtheme: array (nullable = true)\n |    |-- element: string (containsNull = true)\n |-- mjtheme_namecode: array (nullable = true)\n |    |-- element: struct (containsNull = true)\n |    |    |-- code: string (nullable = true)\n |    |    |-- name: string (nullable = true)\n |-- mjthemecode: string (nullable = true)\n |-- prodline: string (nullable = true)\n |-- prodlinetext: string (nullable = true)\n |-- productlinetype: string (nullable = true)\n |-- project_abstract: struct (nullable = true)\n |    |-- cdata: string (nullable = true)\n |-- project_name: string (nullable = true)\n |-- projectdocs: array (nullable = true)\n |    |-- element: struct (containsNull = true)\n |    |    |-- DocDate: string (nullable = true)\n |    |    |-- DocType: string (nullable = true)\n |    |    |-- DocTypeDesc: string (nullable = true)\n |    |    |-- DocURL: string (nullable = true)\n |    |    |-- EntityID: string (nullable = true)\n |-- projectfinancialtype: string (nullable = true)\n |-- projectstatusdisplay: string (nullable = true)\n |-- regionname: string (nullable = true)\n |-- sector: array (nullable = true)\n |    |-- element: struct (containsNull = true)\n |    |    |-- Name: string (nullable = true)\n |-- sector1: struct (nullable = true)\n |    |-- Name: string (nullable = true)\n |    |-- Percent: long (nullable = true)\n |-- sector2: struct (nullable = true)\n |    |-- Name: string (nullable = true)\n |    |-- Percent: long (nullable = true)\n |-- sector3: struct (nullable = true)\n |    |-- Name: string (nullable = true)\n |    |-- Percent: long (nullable = true)\n |-- sector4: struct (nullable = true)\n |    |-- Name: string (nullable = true)\n |    |-- Percent: long (nullable = true)\n |-- sector_namecode: array (nullable = true)\n |    |-- element: struct (containsNull = true)\n |    |    |-- code: string (nullable = true)\n |    |    |-- name: string (nullable = true)\n |-- sectorcode: string (nullable = true)\n |-- source: string (nullable = true)\n |-- status: string (nullable = true)\n |-- supplementprojectflg: string (nullable = true)\n |-- theme1: struct (nullable = true)\n |    |-- Name: string (nullable = true)\n |    |-- Percent: long (nullable = true)\n |-- theme_namecode: array (nullable = true)\n |    |-- element: struct (containsNull = true)\n |    |    |-- code: string (nullable = true)\n |    |    |-- name: string (nullable = true)\n |-- themecode: string (nullable = true)\n |-- totalamt: long (nullable = true)\n |-- totalcommamt: long (nullable = true)\n |-- url: string (nullable = true)\n\nNone\n"
                }
            ], 
            "metadata": {}
        }, 
        {
            "cell_type": "markdown", 
            "metadata": {}, 
            "source": "# Let's take a look at the first two rows of data\n\nThe example below enumerates our \"take\" command that pulls 2 items from the Dataframe\n<br>a simpiler option to see the data could also be:<br>\n\n##### copy and run the following code\n    for row in example1_df.take(2):\n        print row\n        print \"*\" * 20"
        }, 
        {
            "cell_type": "code", 
            "execution_count": 10, 
            "source": "for row in example1_df.take(2):\n    print row\n    print \"*\" * 20", 
            "outputs": [
                {
                    "name": "stdout", 
                    "output_type": "stream", 
                    "text": "Row(_id=Row($oid=u'52b213b38594d8a2be17c780'), approvalfy=u'1999', board_approval_month=u'November', boardapprovaldate=u'2013-11-12T00:00:00Z', borrower=u'FEDERAL DEMOCRATIC REPUBLIC OF ETHIOPIA', closingdate=u'2018-07-07T00:00:00Z', country_namecode=u'Federal Democratic Republic of Ethiopia!$!ET', countrycode=u'ET', countryname=u'Federal Democratic Republic of Ethiopia', countryshortname=u'Ethiopia', docty=u'Project Information Document,Indigenous Peoples Plan,Project Information Document', envassesmentcategorycode=u'C', grantamt=0, ibrdcommamt=0, id=u'P129828', idacommamt=130000000, impagency=u'MINISTRY OF EDUCATION', lendinginstr=u'Investment Project Financing', lendinginstrtype=u'IN', lendprojectcost=550000000, majorsector_percent=[Row(Name=u'Education', Percent=46), Row(Name=u'Education', Percent=26), Row(Name=u'Public Administration, Law, and Justice', Percent=16), Row(Name=u'Education', Percent=12)], mjsector_namecode=[Row(code=u'EX', name=u'Education'), Row(code=u'EX', name=u'Education'), Row(code=u'BX', name=u'Public Administration, Law, and Justice'), Row(code=u'EX', name=u'Education')], mjtheme=[u'Human development'], mjtheme_namecode=[Row(code=u'8', name=u'Human development'), Row(code=u'11', name=u'')], mjthemecode=u'8,11', prodline=u'PE', prodlinetext=u'IBRD/IDA', productlinetype=u'L', project_abstract=Row(cdata=u'The development objective of the Second Phase of General Education Quality Improvement Project for Ethiopia is to improve learning conditions in primary and secondary schools and strengthen institutions at different levels of educational administration. The project has six components. The first component is curriculum, textbooks, assessment, examinations, and inspection. This component will support improvement of learning conditions in grades KG-12 by providing increased access to teaching and learning materials and through improvements to the curriculum by assessing the strengths and weaknesses of the current curriculum. This component has following four sub-components: (i) curriculum reform and implementation; (ii) teaching and learning materials; (iii) assessment and examinations; and (iv) inspection. The second component is teacher development program (TDP). This component will support improvements in learning conditions in both primary and secondary schools by advancing the quality of teaching in general education through: (a) enhancing the training of pre-service teachers in teacher education institutions; and (b) improving the quality of in-service teacher training. This component has following three sub-components: (i) pre-service teacher training; (ii) in-service teacher training; and (iii) licensing and relicensing of teachers and school leaders. The third component is school improvement plan. This component will support the strengthening of school planning in order to improve learning outcomes, and to partly fund the school improvement plans through school grants. It has following two sub-components: (i) school improvement plan; and (ii) school grants. The fourth component is management and capacity building, including education management information systems (EMIS). This component will support management and capacity building aspect of the project. This component has following three sub-components: (i) capacity building for education planning and management; (ii) capacity building for school planning and management; and (iii) EMIS. The fifth component is improving the quality of learning and teaching in secondary schools and universities through the use of information and communications technology (ICT). It has following five sub-components: (i) national policy and institution for ICT in general education; (ii) national ICT infrastructure improvement plan for general education; (iii) develop an integrated monitoring, evaluation, and learning system specifically for the ICT component; (iv) teacher professional development in the use of ICT; and (v) provision of limited number of e-Braille display readers with the possibility to scale up to all secondary education schools based on the successful implementation and usage of the readers. The sixth component is program coordination, monitoring and evaluation, and communication. It will support institutional strengthening by developing capacities in all aspects of program coordination, monitoring and evaluation; a new sub-component on communications will support information sharing for better management and accountability. It has following three sub-components: (i) program coordination; (ii) monitoring and evaluation (M and E); and (iii) communication.'), project_name=u'Ethiopia General Education Quality Improvement Project II', projectdocs=[Row(DocDate=u'28-AUG-2013', DocType=u'PID', DocTypeDesc=u'Project Information Document (PID),  Vol.', DocURL=u'http://www-wds.worldbank.org/servlet/WDSServlet?pcont=details&eid=090224b081e545fb_1_0', EntityID=u'090224b081e545fb_1_0'), Row(DocDate=u'01-JUL-2013', DocType=u'IP', DocTypeDesc=u'Indigenous Peoples Plan (IP),  Vol.1 of 1', DocURL=u'http://www-wds.worldbank.org/servlet/WDSServlet?pcont=details&eid=000442464_20130920111729', EntityID=u'000442464_20130920111729'), Row(DocDate=u'22-NOV-2012', DocType=u'PID', DocTypeDesc=u'Project Information Document (PID),  Vol.', DocURL=u'http://www-wds.worldbank.org/servlet/WDSServlet?pcont=details&eid=090224b0817b19e2_1_0', EntityID=u'090224b0817b19e2_1_0')], projectfinancialtype=u'IDA', projectstatusdisplay=u'Active', regionname=u'Africa', sector=[Row(Name=u'Primary education'), Row(Name=u'Secondary education'), Row(Name=u'Public administration- Other social services'), Row(Name=u'Tertiary education')], sector1=Row(Name=u'Primary education', Percent=46), sector2=Row(Name=u'Secondary education', Percent=26), sector3=Row(Name=u'Public administration- Other social services', Percent=16), sector4=Row(Name=u'Tertiary education', Percent=12), sector_namecode=[Row(code=u'EP', name=u'Primary education'), Row(code=u'ES', name=u'Secondary education'), Row(code=u'BS', name=u'Public administration- Other social services'), Row(code=u'ET', name=u'Tertiary education')], sectorcode=u'ET,BS,ES,EP', source=u'IBRD', status=u'Active', supplementprojectflg=u'N', theme1=Row(Name=u'Education for all', Percent=100), theme_namecode=[Row(code=u'65', name=u'Education for all')], themecode=u'65', totalamt=130000000, totalcommamt=130000000, url=u'http://www.worldbank.org/projects/P129828/ethiopia-general-education-quality-improvement-project-ii?lang=en')\n********************\nRow(_id=Row($oid=u'52b213b38594d8a2be17c781'), approvalfy=u'2015', board_approval_month=u'November', boardapprovaldate=u'2013-11-04T00:00:00Z', borrower=u'GOVERNMENT OF TUNISIA', closingdate=None, country_namecode=u'Republic of Tunisia!$!TN', countrycode=u'TN', countryname=u'Republic of Tunisia', countryshortname=u'Tunisia', docty=u'Project Information Document,Integrated Safeguards Data Sheet,Integrated Safeguards Data Sheet,Project Information Document,Integrated Safeguards Data Sheet,Project Information Document', envassesmentcategorycode=u'C', grantamt=4700000, ibrdcommamt=0, id=u'P144674', idacommamt=0, impagency=u'MINISTRY OF FINANCE', lendinginstr=u'Specific Investment Loan', lendinginstrtype=u'IN', lendprojectcost=5700000, majorsector_percent=[Row(Name=u'Public Administration, Law, and Justice', Percent=70), Row(Name=u'Public Administration, Law, and Justice', Percent=30)], mjsector_namecode=[Row(code=u'BX', name=u'Public Administration, Law, and Justice'), Row(code=u'BX', name=u'Public Administration, Law, and Justice')], mjtheme=[u'Economic management', u'Social protection and risk management'], mjtheme_namecode=[Row(code=u'1', name=u'Economic management'), Row(code=u'6', name=u'Social protection and risk management')], mjthemecode=u'1,6', prodline=u'RE', prodlinetext=u'Recipient Executed Activities', productlinetype=u'L', project_abstract=None, project_name=u'TN: DTF Social Protection Reforms Support', projectdocs=[Row(DocDate=u'29-MAR-2013', DocType=u'PID', DocTypeDesc=u'Project Information Document (PID),  Vol.1 of 1', DocURL=u'http://www-wds.worldbank.org/servlet/WDSServlet?pcont=details&eid=000333037_20131024115616', EntityID=u'000333037_20131024115616'), Row(DocDate=u'29-MAR-2013', DocType=u'ISDS', DocTypeDesc=u'Integrated Safeguards Data Sheet (ISDS),  Vol.1 of 1', DocURL=u'http://www-wds.worldbank.org/servlet/WDSServlet?pcont=details&eid=000356161_20131024151611', EntityID=u'000356161_20131024151611'), Row(DocDate=u'29-MAR-2013', DocType=u'ISDS', DocTypeDesc=u'Integrated Safeguards Data Sheet (ISDS),  Vol.1 of 1', DocURL=u'http://www-wds.worldbank.org/servlet/WDSServlet?pcont=details&eid=000442464_20131031112136', EntityID=u'000442464_20131031112136'), Row(DocDate=u'29-MAR-2013', DocType=u'PID', DocTypeDesc=u'Project Information Document (PID),  Vol.1 of 1', DocURL=u'http://www-wds.worldbank.org/servlet/WDSServlet?pcont=details&eid=000333037_20131031105716', EntityID=u'000333037_20131031105716'), Row(DocDate=u'16-JAN-2013', DocType=u'ISDS', DocTypeDesc=u'Integrated Safeguards Data Sheet (ISDS),  Vol.1 of 1', DocURL=u'http://www-wds.worldbank.org/servlet/WDSServlet?pcont=details&eid=000356161_20130305113209', EntityID=u'000356161_20130305113209'), Row(DocDate=u'16-JAN-2013', DocType=u'PID', DocTypeDesc=u'Project Information Document (PID),  Vol.1 of 1', DocURL=u'http://www-wds.worldbank.org/servlet/WDSServlet?pcont=details&eid=000356161_20130305113716', EntityID=u'000356161_20130305113716')], projectfinancialtype=u'OTHER', projectstatusdisplay=u'Active', regionname=u'Middle East and North Africa', sector=[Row(Name=u'Public administration- Other social services'), Row(Name=u'General public administration sector')], sector1=Row(Name=u'Public administration- Other social services', Percent=70), sector2=Row(Name=u'General public administration sector', Percent=30), sector3=None, sector4=None, sector_namecode=[Row(code=u'BS', name=u'Public administration- Other social services'), Row(code=u'BZ', name=u'General public administration sector')], sectorcode=u'BZ,BS', source=u'IBRD', status=u'Active', supplementprojectflg=u'N', theme1=Row(Name=u'Other economic management', Percent=30), theme_namecode=[Row(code=u'24', name=u'Other economic management'), Row(code=u'54', name=u'Social safety nets')], themecode=u'54,24', totalamt=0, totalcommamt=4700000, url=u'http://www.worldbank.org/projects/P144674?lang=en')\n********************\n"
                }
            ], 
            "metadata": {}
        }, 
        {
            "cell_type": "markdown", 
            "metadata": {}, 
            "source": "# Now let's register a table which is a pointer to the Dataframe and allows data access via Spark SQL\n\n##### copy and run the following code\n    #Simply use the Dataframe Object to create the table:\n    example1_df.registerTempTable(\"world_bank\")"
        }, 
        {
            "cell_type": "code", 
            "execution_count": 11, 
            "source": " example1_df.registerTempTable(\"world_bank\")", 
            "outputs": [], 
            "metadata": {}
        }, 
        {
            "cell_type": "markdown", 
            "metadata": {}, 
            "source": "### The returned object will be a dataframe\n##### copy and run the following code\n    temp_df =  spark.sql(\"select * from world_bank limit 2\")\n\n    print type(temp_df)\n    print \"*\" * 20\n    print temp_df"
        }, 
        {
            "cell_type": "code", 
            "execution_count": 12, 
            "source": "temp_df =  spark.sql(\"select * from world_bank limit 2\")\n\nprint type(temp_df)\nprint \"*\" * 20\nprint temp_df", 
            "outputs": [
                {
                    "name": "stdout", 
                    "output_type": "stream", 
                    "text": "<class 'pyspark.sql.dataframe.DataFrame'>\n********************\nDataFrame[_id: struct<$oid:string>, approvalfy: string, board_approval_month: string, boardapprovaldate: string, borrower: string, closingdate: string, country_namecode: string, countrycode: string, countryname: string, countryshortname: string, docty: string, envassesmentcategorycode: string, grantamt: bigint, ibrdcommamt: bigint, id: string, idacommamt: bigint, impagency: string, lendinginstr: string, lendinginstrtype: string, lendprojectcost: bigint, majorsector_percent: array<struct<Name:string,Percent:bigint>>, mjsector_namecode: array<struct<code:string,name:string>>, mjtheme: array<string>, mjtheme_namecode: array<struct<code:string,name:string>>, mjthemecode: string, prodline: string, prodlinetext: string, productlinetype: string, project_abstract: struct<cdata:string>, project_name: string, projectdocs: array<struct<DocDate:string,DocType:string,DocTypeDesc:string,DocURL:string,EntityID:string>>, projectfinancialtype: string, projectstatusdisplay: string, regionname: string, sector: array<struct<Name:string>>, sector1: struct<Name:string,Percent:bigint>, sector2: struct<Name:string,Percent:bigint>, sector3: struct<Name:string,Percent:bigint>, sector4: struct<Name:string,Percent:bigint>, sector_namecode: array<struct<code:string,name:string>>, sectorcode: string, source: string, status: string, supplementprojectflg: string, theme1: struct<Name:string,Percent:bigint>, theme_namecode: array<struct<code:string,name:string>>, themecode: string, totalamt: bigint, totalcommamt: bigint, url: string]\n"
                }
            ], 
            "metadata": {}
        }, 
        {
            "cell_type": "markdown", 
            "metadata": {}, 
            "source": "#### One nice feature of the notebooks and python is that we can show it in a table via Pandas\nsqlContext.sql(\"select id, borrower from world_bank limit 2\").toPandas()"
        }, 
        {
            "cell_type": "code", 
            "execution_count": 13, 
            "source": "spark.sql(\"select id, borrower from world_bank limit 2\").toPandas()", 
            "outputs": [
                {
                    "data": {
                        "text/html": "<div>\n<style>\n    .dataframe thead tr:only-child th {\n        text-align: right;\n    }\n\n    .dataframe thead th {\n        text-align: left;\n    }\n\n    .dataframe tbody tr th {\n        vertical-align: top;\n    }\n</style>\n<table border=\"1\" class=\"dataframe\">\n  <thead>\n    <tr style=\"text-align: right;\">\n      <th></th>\n      <th>id</th>\n      <th>borrower</th>\n    </tr>\n  </thead>\n  <tbody>\n    <tr>\n      <th>0</th>\n      <td>P129828</td>\n      <td>FEDERAL DEMOCRATIC REPUBLIC OF ETHIOPIA</td>\n    </tr>\n    <tr>\n      <th>1</th>\n      <td>P144674</td>\n      <td>GOVERNMENT OF TUNISIA</td>\n    </tr>\n  </tbody>\n</table>\n</div>", 
                        "text/plain": "        id                                 borrower\n0  P129828  FEDERAL DEMOCRATIC REPUBLIC OF ETHIOPIA\n1  P144674                    GOVERNMENT OF TUNISIA"
                    }, 
                    "execution_count": 13, 
                    "metadata": {}, 
                    "output_type": "execute_result"
                }
            ], 
            "metadata": {}
        }, 
        {
            "cell_type": "markdown", 
            "metadata": {}, 
            "source": "### Here is a simple group by example:\n\n#### Count the number of projects by each country, only list the top 10\n"
        }, 
        {
            "cell_type": "code", 
            "execution_count": 14, 
            "source": "query = \"\"\"\nselect countryname,\n       count(1) as projects\nfrom world_bank\ngroup by countryname\norder by projects desc\nlimit 10\n\"\"\"\nspark.sql(query).toPandas()", 
            "outputs": [
                {
                    "data": {
                        "text/html": "<div>\n<style>\n    .dataframe thead tr:only-child th {\n        text-align: right;\n    }\n\n    .dataframe thead th {\n        text-align: left;\n    }\n\n    .dataframe tbody tr th {\n        vertical-align: top;\n    }\n</style>\n<table border=\"1\" class=\"dataframe\">\n  <thead>\n    <tr style=\"text-align: right;\">\n      <th></th>\n      <th>countryname</th>\n      <th>projects</th>\n    </tr>\n  </thead>\n  <tbody>\n    <tr>\n      <th>0</th>\n      <td>Republic of Indonesia</td>\n      <td>19</td>\n    </tr>\n    <tr>\n      <th>1</th>\n      <td>People's Republic of China</td>\n      <td>19</td>\n    </tr>\n    <tr>\n      <th>2</th>\n      <td>Socialist Republic of Vietnam</td>\n      <td>17</td>\n    </tr>\n    <tr>\n      <th>3</th>\n      <td>Republic of India</td>\n      <td>16</td>\n    </tr>\n    <tr>\n      <th>4</th>\n      <td>Republic of Yemen</td>\n      <td>13</td>\n    </tr>\n    <tr>\n      <th>5</th>\n      <td>Kingdom of Morocco</td>\n      <td>12</td>\n    </tr>\n    <tr>\n      <th>6</th>\n      <td>People's Republic of Bangladesh</td>\n      <td>12</td>\n    </tr>\n    <tr>\n      <th>7</th>\n      <td>Nepal</td>\n      <td>12</td>\n    </tr>\n    <tr>\n      <th>8</th>\n      <td>Africa</td>\n      <td>11</td>\n    </tr>\n    <tr>\n      <th>9</th>\n      <td>Republic of Mozambique</td>\n      <td>11</td>\n    </tr>\n  </tbody>\n</table>\n</div>", 
                        "text/plain": "                       countryname  projects\n0            Republic of Indonesia        19\n1       People's Republic of China        19\n2    Socialist Republic of Vietnam        17\n3                Republic of India        16\n4                Republic of Yemen        13\n5               Kingdom of Morocco        12\n6  People's Republic of Bangladesh        12\n7                            Nepal        12\n8                           Africa        11\n9           Republic of Mozambique        11"
                    }, 
                    "execution_count": 14, 
                    "metadata": {}, 
                    "output_type": "execute_result"
                }
            ], 
            "metadata": {}
        }, 
        {
            "cell_type": "markdown", 
            "metadata": {}, 
            "source": "### Simple Example of Adding a Schema (headers) to an RDD and using it as a dataframe"
        }, 
        {
            "cell_type": "markdown", 
            "metadata": {}, 
            "source": "### In the example below a simple RDD is created with Random Data in two columns and an ID column.\n\n#### copy and run the following code\n\n    import random\n\n    #first let's create a simple RDD\n\n    #create a Python list of lists for our example\n    data_e2 = []\n    for x in range(1,6):\n        random_int = int(random.random() * 10)\n        data_e2.append([x, random_int, random_int^2])\n\n    #create the RDD with the random list of lists\n    rdd_example2 = sc.parallelize(data_e2)\n    print rdd_example2.collect()\n"
        }, 
        {
            "cell_type": "code", 
            "execution_count": 15, 
            "source": "import random\n\n#first let's create a simple RDD\n\n#create a Python list of lists for our example\ndata_e2 = []\nfor x in range(1,6):\n    random_int = int(random.random() * 10)\n    data_e2.append([x, random_int, random_int^2])\n\n#create the RDD with the random list of lists\nrdd_example2 = sc.parallelize(data_e2)\nprint rdd_example2.collect()", 
            "outputs": [
                {
                    "name": "stdout", 
                    "output_type": "stream", 
                    "text": "[[1, 8, 10], [2, 8, 10], [3, 6, 4], [4, 5, 7], [5, 3, 1]]\n"
                }
            ], 
            "metadata": {}
        }, 
        {
            "cell_type": "markdown", 
            "metadata": {}, 
            "source": "#### Now we can assign some header information\n\n#### copy and run the following code\n    from pyspark.sql.types import *\n\n    # The schema is encoded in a string.\n    schemaString = \"ID VAL1 VAL2\"\n\n    fields = [StructField(field_name, StringType(), True) for field_name in schemaString.split()]\n    schema = StructType(fields)\n\n    # Apply the schema to the RDD.\n    schemaExample = sqlContext.createDataFrame(rdd_example2, schema)\n\n    # Register the DataFrame as a table.\n    schemaExample.registerTempTable(\"example2\")\n\n    # Pull the data\n    print schemaExample.collect()\n\n"
        }, 
        {
            "cell_type": "code", 
            "execution_count": 16, 
            "source": "from pyspark.sql.types import *\n\n# The schema is encoded in a string.\nschemaString = \"ID VAL1 VAL2\"\n\nfields = [StructField(field_name, StringType(), True) for field_name in schemaString.split()]\nschema = StructType(fields)\n\n# Apply the schema to the RDD.\nschemaExample = sqlContext.createDataFrame(rdd_example2, schema)\n\n# Register the DataFrame as a table.\nschemaExample.registerTempTable(\"example2\")\n\n# Pull the data\nprint schemaExample.collect()", 
            "outputs": [
                {
                    "name": "stdout", 
                    "output_type": "stream", 
                    "text": "[Row(ID=u'1', VAL1=u'8', VAL2=u'10'), Row(ID=u'2', VAL1=u'8', VAL2=u'10'), Row(ID=u'3', VAL1=u'6', VAL2=u'4'), Row(ID=u'4', VAL1=u'5', VAL2=u'7'), Row(ID=u'5', VAL1=u'3', VAL2=u'1')]\n"
                }
            ], 
            "metadata": {}
        }, 
        {
            "cell_type": "markdown", 
            "metadata": {}, 
            "source": "### Print only first 2 rows of the rdd\n\n<br/>\n<div>\n<div class=\"panel panel-default\">\n    <div class=\"panel-heading\">\n      <h4 class=\"panel-title\">\n        <a data-toggle=\"collapse\" data-parent=\"#accordion-11\" href=\"#collapse1-11\">\n        Hint</a>\n      </h4>\n    </div>\n    <div id=\"collapse1-11\" class=\"panel-collapse collapse\">\n      <div class=\"panel-body\">Use .take(N) </div>\n    </div>\n  </div>\n </div>"
        }, 
        {
            "cell_type": "markdown", 
            "metadata": {}, 
            "source": "#### Now we can convert rdd_example3 to a Dataframe\n\n##### copy and run this code\n    from pyspark.sql import Row\n\n    rdd_example3 = rdd_example2.map(lambda x: Row(id=x[0], val1=x[1], val2=x[2]))\n    print rdd_example3.collect()\n    df_example3 = rdd_example3.toDF()"
        }, 
        {
            "cell_type": "code", 
            "execution_count": 17, 
            "source": "from pyspark.sql import Row\n\nrdd_example3 = rdd_example2.map(lambda x: Row(id=x[0], val1=x[1], val2=x[2]))\nprint rdd_example3.collect()\ndf_example3 = rdd_example3.toDF()", 
            "outputs": [
                {
                    "name": "stdout", 
                    "output_type": "stream", 
                    "text": "[Row(id=1, val1=8, val2=10), Row(id=2, val1=8, val2=10), Row(id=3, val1=6, val2=4), Row(id=4, val1=5, val2=7), Row(id=5, val1=3, val2=1)]\n"
                }
            ], 
            "metadata": {}
        }, 
        {
            "cell_type": "markdown", 
            "metadata": {}, 
            "source": "### Register this new data frame as a table \nregister as temp table, call it 'df_example3'"
        }, 
        {
            "cell_type": "code", 
            "execution_count": 18, 
            "source": "df_example3.registerTempTable('df_example3')", 
            "outputs": [], 
            "metadata": {
                "collapsed": true
            }
        }, 
        {
            "cell_type": "markdown", 
            "metadata": {}, 
            "source": "# Another powerful feature is the ability to create Functions and Use them in SQL Here is a simple example\n\nFirst we create a function in Python, then register it allowing for us to call it via SQL\n\n#### copy and run the following code\n    def simple_function(v):\n        return int(v * 10)\n\n    #test the function\n    print simple_function(3)"
        }, 
        {
            "cell_type": "code", 
            "execution_count": 19, 
            "source": "def simple_function(v):\n    return int(v * 10)\n\n#test the function\nprint simple_function(3)", 
            "outputs": [
                {
                    "name": "stdout", 
                    "output_type": "stream", 
                    "text": "30\n"
                }
            ], 
            "metadata": {}
        }, 
        {
            "cell_type": "markdown", 
            "metadata": {}, 
            "source": "#### Now we can register the function for use in SQL\nspark.udf.register('simple_function',simple_function,pyspark.sql.types.IntegerType())\n"
        }, 
        {
            "cell_type": "code", 
            "execution_count": 20, 
            "source": "spark.udf.register('simple_function',simple_function,pyspark.sql.types.IntegerType())", 
            "outputs": [], 
            "metadata": {
                "collapsed": true
            }
        }, 
        {
            "cell_type": "markdown", 
            "metadata": {}, 
            "source": "#### VAL1 and VAL2 look like strings, we can cast them as well\n\n    query = \"\"\"\n    select\n        ID,\n        VAL1,\n        VAL2,\n        simple_function(cast(VAL1 as int)) as s_VAL1,\n        simple_function(cast(VAL2 as int)) as s_VAL2\n    from\n     example2\n    \"\"\"\n    spark.sql(query).toPandas()"
        }, 
        {
            "cell_type": "code", 
            "execution_count": 33, 
            "source": "query = \"\"\"\nselect\n    ID,\n    VAL1,\n    VAL2,\n    simple_function(cast(VAL1 as int)) as s_VAL1,\n    simple_function(cast(VAL2 as int)) as s_VAL2\nfrom\n example2\n\"\"\"\nspark.sql(query).toPandas()", 
            "outputs": [
                {
                    "data": {
                        "text/html": "<div>\n<style>\n    .dataframe thead tr:only-child th {\n        text-align: right;\n    }\n\n    .dataframe thead th {\n        text-align: left;\n    }\n\n    .dataframe tbody tr th {\n        vertical-align: top;\n    }\n</style>\n<table border=\"1\" class=\"dataframe\">\n  <thead>\n    <tr style=\"text-align: right;\">\n      <th></th>\n      <th>ID</th>\n      <th>VAL1</th>\n      <th>VAL2</th>\n      <th>s_VAL1</th>\n      <th>s_VAL2</th>\n    </tr>\n  </thead>\n  <tbody>\n    <tr>\n      <th>0</th>\n      <td>1</td>\n      <td>8</td>\n      <td>10</td>\n      <td>80</td>\n      <td>100</td>\n    </tr>\n    <tr>\n      <th>1</th>\n      <td>2</td>\n      <td>8</td>\n      <td>10</td>\n      <td>80</td>\n      <td>100</td>\n    </tr>\n    <tr>\n      <th>2</th>\n      <td>3</td>\n      <td>6</td>\n      <td>4</td>\n      <td>60</td>\n      <td>40</td>\n    </tr>\n    <tr>\n      <th>3</th>\n      <td>4</td>\n      <td>5</td>\n      <td>7</td>\n      <td>50</td>\n      <td>70</td>\n    </tr>\n    <tr>\n      <th>4</th>\n      <td>5</td>\n      <td>3</td>\n      <td>1</td>\n      <td>30</td>\n      <td>10</td>\n    </tr>\n  </tbody>\n</table>\n</div>", 
                        "text/plain": "  ID VAL1 VAL2  s_VAL1  s_VAL2\n0  1    8   10      80     100\n1  2    8   10      80     100\n2  3    6    4      60      40\n3  4    5    7      50      70\n4  5    3    1      30      10"
                    }, 
                    "execution_count": 33, 
                    "metadata": {}, 
                    "output_type": "execute_result"
                }
            ], 
            "metadata": {}
        }, 
        {
            "cell_type": "markdown", 
            "metadata": {}, 
            "source": "# Pandas Example\nPandas is a common abstraction for working with data in Python.\n\nWe can turn Pandas Dataframes into Spark Dataframes, the advantage of this \ncould be scale or allowing us to run SQL statements agains the data.\n\n### copy and run the following code\n    import pandas as pd\n    print pd"
        }, 
        {
            "cell_type": "code", 
            "execution_count": 22, 
            "source": "import pandas as pd\nprint pd", 
            "outputs": [
                {
                    "name": "stdout", 
                    "output_type": "stream", 
                    "text": "<module 'pandas' from '/gpfs/fs01/user/s280-a46e86a84e2274-95b1885704d4/.local/lib/python2.7/site-packages/pandas/__init__.pyc'>\n"
                }
            ], 
            "metadata": {}
        }, 
        {
            "cell_type": "markdown", 
            "metadata": {}, 
            "source": "### First, let's grab some UFO data to play with\n\n    !rm SIGHTINGS.csv -f\n    !wget https://www.quandl.com/api/v3/datasets/NUFORC/SIGHTINGS.csv"
        }, 
        {
            "cell_type": "code", 
            "execution_count": 23, 
            "source": "!rm SIGHTINGS.csv -f\n!wget https://www.quandl.com/api/v3/datasets/NUFORC/SIGHTINGS.csv", 
            "outputs": [
                {
                    "name": "stdout", 
                    "output_type": "stream", 
                    "text": "--2017-06-28 21:03:09--  https://www.quandl.com/api/v3/datasets/NUFORC/SIGHTINGS.csv\nResolving www.quandl.com (www.quandl.com)... 104.25.53.103, 104.25.54.103, 2400:cb00:2048:1::6819:3667, ...\nConnecting to www.quandl.com (www.quandl.com)|104.25.53.103|:443... connected.\nHTTP request sent, awaiting response... 200 OK\nLength: 14440 (14K) [text/csv]\nSaving to: \u2018SIGHTINGS.csv\u2019\n\n100%[======================================>] 14,440      --.-K/s   in 0.001s  \n\n2017-06-28 21:03:09 (12.1 MB/s) - \u2018SIGHTINGS.csv\u2019 saved [14440/14440]\n\n"
                }
            ], 
            "metadata": {}
        }, 
        {
            "cell_type": "markdown", 
            "metadata": {}, 
            "source": "### Using the CSV file, we can create a Pandas Dataframe:\n    pandas_df = pd.read_csv(\"./SIGHTINGS.csv\")\n    pandas_df.head()"
        }, 
        {
            "cell_type": "code", 
            "execution_count": 24, 
            "source": "pandas_df = pd.read_csv(\"./SIGHTINGS.csv\") \npandas_df.head()", 
            "outputs": [
                {
                    "data": {
                        "text/html": "<div>\n<style>\n    .dataframe thead tr:only-child th {\n        text-align: right;\n    }\n\n    .dataframe thead th {\n        text-align: left;\n    }\n\n    .dataframe tbody tr th {\n        vertical-align: top;\n    }\n</style>\n<table border=\"1\" class=\"dataframe\">\n  <thead>\n    <tr style=\"text-align: right;\">\n      <th></th>\n      <th>Reports</th>\n      <th>Count</th>\n    </tr>\n  </thead>\n  <tbody>\n    <tr>\n      <th>0</th>\n      <td>2017-06-30</td>\n      <td>235.0</td>\n    </tr>\n    <tr>\n      <th>1</th>\n      <td>2017-05-31</td>\n      <td>342.0</td>\n    </tr>\n    <tr>\n      <th>2</th>\n      <td>2017-04-30</td>\n      <td>396.0</td>\n    </tr>\n    <tr>\n      <th>3</th>\n      <td>2017-03-31</td>\n      <td>335.0</td>\n    </tr>\n    <tr>\n      <th>4</th>\n      <td>2017-02-28</td>\n      <td>412.0</td>\n    </tr>\n  </tbody>\n</table>\n</div>", 
                        "text/plain": "      Reports  Count\n0  2017-06-30  235.0\n1  2017-05-31  342.0\n2  2017-04-30  396.0\n3  2017-03-31  335.0\n4  2017-02-28  412.0"
                    }, 
                    "execution_count": 24, 
                    "metadata": {}, 
                    "output_type": "execute_result"
                }
            ], 
            "metadata": {}
        }, 
        {
            "cell_type": "markdown", 
            "metadata": {}, 
            "source": "### Look at the dataset, by registering as a temp table"
        }, 
        {
            "cell_type": "code", 
            "execution_count": 25, 
            "source": "ufo_data = spark.createDataFrame(pandas_df)\nufo_data.registerTempTable('ufo_data')", 
            "outputs": [], 
            "metadata": {
                "collapsed": true
            }
        }, 
        {
            "cell_type": "markdown", 
            "metadata": {}, 
            "source": "# Visualizing the Data\n- Here are some simple ways to create charts using Pandas output\n- In order to display in the notebook we need to tell matplotlib to render inline\nat this point import the supporting libraries as well\n"
        }, 
        {
            "cell_type": "code", 
            "execution_count": 26, 
            "source": "%matplotlib inline \nimport matplotlib.pyplot as plt, numpy as np", 
            "outputs": [], 
            "metadata": {
                "collapsed": true
            }
        }, 
        {
            "cell_type": "markdown", 
            "metadata": {}, 
            "source": "Pandas can call a function \"plot\" to create the charts.\nSince most charts are created from aggregates the record\nset should be small enough to store in Pandas\n\nWe can take our UFO data from before and create a \nPandas Dataframe from the Spark Dataframe\n\n    ufos_df = ufo_data.toPandas()"
        }, 
        {
            "cell_type": "code", 
            "execution_count": 27, 
            "source": "ufos_df = ufo_data.toPandas()", 
            "outputs": [], 
            "metadata": {}
        }, 
        {
            "cell_type": "markdown", 
            "metadata": {}, 
            "source": "To plot we call the \"plot\" method and specify the type, x and y axis columns\nand optionally the size of the chart.\n\nMany more details can be found here:\nhttp://pandas.pydata.org/pandas-docs/stable/visualization.html\n    \n    \n#### copy and run this code\nufos_df.plot(kind='bar', x='Reports', y='Count', figsize=(12, 5))"
        }, 
        {
            "cell_type": "code", 
            "execution_count": 28, 
            "source": "ufos_df.plot(kind='bar', x='Reports', y='Count', figsize=(12, 5))", 
            "outputs": [
                {
                    "data": {
                        "text/plain": "<matplotlib.axes._subplots.AxesSubplot at 0x7f2b262c18d0>"
                    }, 
                    "execution_count": 28, 
                    "metadata": {}, 
                    "output_type": "execute_result"
                }, 
                {
                    "data": {
                        "image/png": "[encoded data removed]", 
                        "text/plain": "<matplotlib.figure.Figure at 0x7f2b2daa8610>"
                    }, 
                    "metadata": {}, 
                    "output_type": "display_data"
                }
            ], 
            "metadata": {}
        }, 
        {
            "cell_type": "markdown", 
            "metadata": {}, 
            "source": "### This doesn't look good, there are too many observations, can you check how many?\n"
        }, 
        {
            "cell_type": "code", 
            "execution_count": 29, 
            "source": "spark.sql(\"select count(*) from ufo_data\").toPandas()", 
            "outputs": [
                {
                    "data": {
                        "text/html": "<div>\n<style>\n    .dataframe thead tr:only-child th {\n        text-align: right;\n    }\n\n    .dataframe thead th {\n        text-align: left;\n    }\n\n    .dataframe tbody tr th {\n        vertical-align: top;\n    }\n</style>\n<table border=\"1\" class=\"dataframe\">\n  <thead>\n    <tr style=\"text-align: right;\">\n      <th></th>\n      <th>count(1)</th>\n    </tr>\n  </thead>\n  <tbody>\n    <tr>\n      <th>0</th>\n      <td>907</td>\n    </tr>\n  </tbody>\n</table>\n</div>", 
                        "text/plain": "   count(1)\n0       907"
                    }, 
                    "execution_count": 29, 
                    "metadata": {}, 
                    "output_type": "execute_result"
                }
            ], 
            "metadata": {}
        }, 
        {
            "cell_type": "markdown", 
            "metadata": {}, 
            "source": "<h2>Ideally we could just group by year, there are many ways we could solve that:</h2>\n\n1) parse the Reports column in SQL and output the year, then group on it\n2) create a simple Python function to parse the year and call it via sql\n3) as shown below: use map against the Dataframe and append a new column with \"year\"\n\nTge example below takes the existing data for each row and appends a new column \"year\" \nby taking the first for characters from the Reports column\n\nReports looks like this for example:\n2016-01-31\n\n##### copy and run this code\nufos_df = ufo_data.rdd.map(lambda x: Row(**dict(x.asDict(), year=int(x.Reports[0:4])))).toDF()"
        }, 
        {
            "cell_type": "code", 
            "execution_count": 30, 
            "source": "ufos_df = ufo_data.rdd.map(lambda x: Row(**dict(x.asDict(), year=int(x.Reports[0:4])))).toDF()", 
            "outputs": [], 
            "metadata": {}
        }, 
        {
            "cell_type": "markdown", 
            "metadata": {}, 
            "source": "#### Register the new Dataframe as a table \"ufo_withyear\""
        }, 
        {
            "cell_type": "code", 
            "execution_count": 31, 
            "source": "ufos_df.registerTempTable('ufo_withyear')", 
            "outputs": [], 
            "metadata": {}
        }, 
        {
            "cell_type": "markdown", 
            "metadata": {}, 
            "source": "#### Now can you group by year, order by year and filter to the last 66 years?\nplot your results"
        }, 
        {
            "cell_type": "markdown", 
            "metadata": {}, 
            "source": "<div class=\"panel panel-default\">\n    <div class=\"panel-heading\">\n      <h4 class=\"panel-title\">\n        <a data-toggle=\"collapse\" data-parent=\"#accordion-11\" href=\"#collapse3-11\">\n        Answer</a>\n      </h4>\n    </div>\n    <div id=\"collapse3-11\" class=\"panel-collapse collapse\">\n      <div class=\"panel-body\">query = \"\"\"<br>\n            select <br>\n                sum(Count) as count, <br>\n                year <br>\n            from ufo_withyear<br>\n            where year > 1950<br>\n            group by year<br>\n            order by year<br>\n            \"\"\"<br>\n            pandas_ufos_withyears = sqlContext.sql(query).toPandas()<br>\n            pandas_ufos_withyears.plot(kind='bar', x='year', y='count', figsize=(12, 5))<br></div>\n    </div>\n  </div>"
        }, 
        {
            "cell_type": "code", 
            "execution_count": 32, 
            "source": "query = \"\"\"\nselect \n    sum(Count) as count, \n    year \nfrom ufo_withyear\nwhere year > 1950\ngroup by year\norder by year\n\"\"\"\npandas_ufos_withyears = sqlContext.sql(query).toPandas()\npandas_ufos_withyears.plot(kind='bar', x='year', y='count', figsize=(12, 5))", 
            "outputs": [
                {
                    "data": {
                        "text/plain": "<matplotlib.axes._subplots.AxesSubplot at 0x7f2b23a3f910>"
                    }, 
                    "execution_count": 32, 
                    "metadata": {}, 
                    "output_type": "execute_result"
                }, 
                {
                    "data": {
                        "image/png": "[encoded data removed]", 
                        "text/plain": "<matplotlib.figure.Figure at 0x7f2b21202f90>"
                    }, 
                    "metadata": {}, 
                    "output_type": "display_data"
                }
            ], 
            "metadata": {
                "scrolled": true
            }
        }
    ], 
    "metadata": {
        "kernelspec": {
            "display_name": "Python 2 with Spark 2.0", 
            "language": "python", 
            "name": "python2-spark20"
        }, 
        "language_info": {
            "version": "2.7.11", 
            "nbconvert_exporter": "python", 
            "mimetype": "text/x-python", 
            "file_extension": ".py", 
            "codemirror_mode": {
                "version": 2, 
                "name": "ipython"
            }, 
            "pygments_lexer": "ipython2", 
            "name": "python"
        }
    }, 
    "nbformat_minor": 1
}